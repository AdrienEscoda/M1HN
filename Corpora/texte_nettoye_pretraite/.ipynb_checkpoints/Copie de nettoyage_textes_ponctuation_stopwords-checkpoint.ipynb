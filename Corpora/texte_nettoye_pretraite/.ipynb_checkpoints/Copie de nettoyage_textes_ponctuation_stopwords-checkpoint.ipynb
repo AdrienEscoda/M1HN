{
 "cells": [
  {
   "cell_type": "code",
   "execution_count": 1,
   "id": "a842eb93",
   "metadata": {},
   "outputs": [],
   "source": [
    "import re\n",
    "import string\n",
    "import glob\n",
    "import spacy"
   ]
  },
  {
   "cell_type": "code",
   "execution_count": 2,
   "id": "dd8569c0",
   "metadata": {},
   "outputs": [
    {
     "name": "stdout",
     "output_type": "stream",
     "text": [
      "['plus', 'nous-mêmes', 'nombreux', 'quinze', 'mêmes', 'chère', 'dire', 'entre', 'parler', 'chut', 'seront', 'quoi', 'possessif', 'soit', 'lorsque', 'onze', 'uniques', 'moyennant', 'différents', 'différent', 'vingt', 'o', 'rares', 'tenir', 'les', 'euh', 'sinon', 'nôtre', 'duquel', 'neuvième', 'vers', 'deux', 'alors', 'toutefois', 'beau', 'là', 'tiennes', 'hé', 'cet', \"s'\", 'hue', 'juste', 'leur', 'brrr', 'oh', 'font', 'malgré', 'puis', 'vôtre', 'pas', 'nouveau', 'hi', 'eux-mêmes', 'laisser', 'neuf', 'tienne', 'pire', 'parle', 'relativement', 'selon', 'elle-même', 'olé', 'allô', 'quel', 'té', 'lesquels', 'neanmoins', 'zut', 'encore', 'fait', 'soixante', 'etre', 'ou', 'quand', 'egale', 'derniere', 'pres', 'particulier', 'm’', 'maximale', 'devers', 'celui', 'ayant', 'quiconque', 'dring', 'proche', 'premier', 'sa', 'première', 'devant', 'dix-sept', \"c'\", 'durant', 'pur', 'sacrebleu', 'tenant', 'pan', 'contre', 'excepté', 'sera', 'ainsi', 'hou', 'possible', 'cela', 'ai', 'notre', 'oust', 'speculatif', 'ni', 'néanmoins', 'dedans', 'de', 'toutes', 'necessairement', 'elle', 'semblable', 'comparables', 'moindres', 'jusque', 'tes', 'hélas', 'eu', 'étaient', 'nul', 'particulière', 'autrefois', 'semblaient', 'chacune', 'ils', 'dixième', 'celles', 'laquelle', 'des', 'ça', 'ceux-ci', 'basee', 'faisant', 'dès', 'bravo', 'assez', 'lui-même', 'as', 'seulement', 'hormis', 'revoici', 'feront', 'ore', 'te', 'toujours', 'a', 'mienne', 'bien', 'soi', 'nombreuses', 'celui-ci', 'suivantes', 'mais', 'ouverte', 'ta', 'avons', 'que', 'procedant', 'vifs', 'troisième', 'suis', 'precisement', 'suffisant', 'pfft', 'ouverts', 'auxquels', 'parfois', 'va', 'dit', 'mon', 'au', 'il', 'pff', \"aujourd'hui\", 'lès', 'relative', 'aucune', \"d'\", 'desquels', 'sauf', 'tsoin', 'hop', 'reste', 'semble', 'ô', 'maintenant', 'restent', 'fi', 'siennes', 'telles', 'je', 'flac', 'pouah', 'rarement', 'tien', 'tous', 'façon', 'uns', 'psitt', 'moi-même', 'chacun', 'cinquantaine', 'semblent', 'unes', 'deuxièmement', 'ouste', 'parseme', 'jusqu', 'très', 'quelles', 'ouf', 'certaines', 'ci', 'stop', 'sent', 'on', 'un', 'couic', 'directement', 'mille', \"j'\", 'cinquième', 'houp', 'etaient', 'pfut', 'celle', 'celle-là', 'sept', 'differentes', 'abord', 'donc', 'par', 'avant', 'vous', 'parlent', 'pourquoi', 'doit', 'quelque', 'cependant', 'dessous', 'dits', 'peux', 'tout', 'dix-huit', 'son', 'vu', 'trente', 'avaient', 'etc', 'être', 'aura', 'pu', 't’', 'tente', 'tres', 'nos', 'lequel', \"t'\", 'douze', 'non', 'est', 'vé', 'fais', 'allons', 'comme', 'dix-neuf', 'ont', 'sein', 'naturelles', 'possibles', 'ses', 'seraient', 'diverses', 'différente', 'différentes', 'vif', 'hep', 'da', 'na', 'hurrah', 'près', 'ma', 'suffisante', 'souvent', 'egales', 'c’', 'dite', 'clic', 'allo', 'pure', 'en', 'aussi', 'avec', 'bah', 'plouf', 'anterieures', 'trop', 'ah', 'depuis', 'qui', 'miens', 'aurait', 'pouvait', 'via', 'exterieur', 'ha', 'tic', 'concernant', 'hem', 'malgre', 'restant', 'directe', 'desquelles', 'mes', 'dix', 'seule', 'chères', 'sont', 'minimale', 'tsouin', 'chez', 'avait', 'celles-ci', 'environ', 'premièrement', 'moi-meme', 'touchant', 'passé', 'me', 'quant-à-soi', 'strictement', 'soi-même', 'désormais', 'siens', 'sapristi', 'bas', 'es', 'hui', 'se', 'onzième', 'trois', 'ait', 'cinquante', 'plusieurs', 'devra', 'vont', 'hein', 'rendre', 'sait', 'sienne', 'n’', 'suivre', 'eux', 'sous', 'même', 'quels', 'auraient', 'quatorze', 'tel', 'debout', 'celui-là', 'notamment', 'seize', 'aupres', 'celles-là', 'aie', 'tardive', 'vlan', 'etant', 'diverse', 'elles', 'quant', 'sixième', 'ton', 'huitième', 'anterieur', 'sans', 'differents', 'specifiques', 'quoique', 'après', 'comparable', 'suffit', 'partant', 'suivants', 'etait', 'dans', 'longtemps', 'pour', 'â', 'vas', 'quarante', 'quatre', 'pif', 'paf', 'ouias', 'tu', 'different', 'certain', 'vais', 'egalement', 'toi', 'sien', 'derrière', 'dont', 'six', 'nôtres', 'deuxième', 'moins', 'probante', 'chiche', 'lesquelles', 'parmi', 'vives', 'divers', 'septième', 'exactement', 'car', 'doivent', 'gens', 'beaucoup', 'voici', \"m'\", 'maint', 'quanta', 'ailleurs', 'huit', 'vôtres', 'toc', 'cent', 'vive', 'hum', 'remarquable', 'subtiles', 'tiens', 'autrement', 'peut', 'revoilà', 'restrictif', 'anterieure', 'autres', 'cinquantième', 'probable', 'suivante', 'allaient', 'merci', 'telle', 'naturel', 'elles-mêmes', 'peuvent', 'quelques', 'troisièmement', 'plutôt', 'ne', \"quelqu'un\", 'douzième', 'certes', 'auquel', 'bat', 'été', 'rien', 'i', 'cette', 'peu', 'quatre-vingt', 'moi', 'seul', 'suivant', 'toute', 'unique', 'chers', 'floc', 'voilà', 'tels', 'permet', 'derriere', 'vivat', \"l'\", 'ceux', 'celle-ci', 'était', 'où', \"qu'\", 'crac', 'ollé', 'j’', 'cinq', 'desormais', 'étant', 'l’', 'tant', 'uniformement', 'faisaient', 'ceux-là', 'cher', 'suit', 'parce', 'compris', 'specifique', 'memes', 'quatrième', 'dehors', 'ce', 'ès', 'possessifs', 'apres', 'quelconque', 'leurs', 'effet', 'quelle', 'retour', 'bigre', 'aucun', 'avais', 'du', 'lui-meme', 'tac', 's’', 'holà', 'certaine', 'personne', 'sur', 'naturelle', 'puisque', 'hors', 'serait', 'absolument', 'quatrièmement', 'avoir', 'le', 'auxquelles', 'boum', 'pendant', 'comment', 'vous-mêmes', 'mince', 'combien', 'une', 'enfin', 'superpose', 'chaque', 'prealable', 'rare', 'clac', 'particulièrement', 'certains', 'aujourd', 'lors', 'mien', 'dessus', 'nous', 'deja', 'toi-même', 'importe', 'vos', 'autrui', 'attendu', 'ouvert', 'ceci', 'ces', 'd’', 'envers', 'et', 'outre', 'rend', 'pense', 'meme', 'eh', 'surtout', 'pourrait', 'necessaire', 'etais', \"n'\", 'qu’', 'delà', 'dernier', 'pourrais', 'votre', 'treize', 'miennes', 'auront', 'tend', 'autre', 'aux', 'afin', 'lui', 'extenso', 'ho', 'étais', 'las', 'tellement', 'la', 'plein', 'si', 'ohé', 'à']\n"
     ]
    }
   ],
   "source": [
    "from spacy.lang.fr.stop_words import STOP_WORDS as fr_stop\n",
    "final_stopwords_list = list(fr_stop)\n",
    "print(final_stopwords_list)"
   ]
  },
  {
   "cell_type": "code",
   "execution_count": 3,
   "id": "10b9bfc6",
   "metadata": {},
   "outputs": [],
   "source": [
    "final_stopwords_list = list(fr_stop)\n",
    "#pattern de suppression de la ponctuation\n",
    "remove = string.punctuation\n",
    "remove = remove.replace(\"'\", \"\") # don't remove hyphens\n",
    "pattern = r\"[{}]\".format(remove)\n",
    "for doc in glob.glob('/home/adrien-escoda/Documents/M1HN_version_finale/Corpora/texte_nettoye_pretraite/*.txt'):\n",
    "    my_file = open(doc, encoding='utf-8')\n",
    "    string_list = my_file.read()\n",
    "    my_file.close()\n",
    "    my_file = open(doc, \"w\")\n",
    "    #suppression manuelle des \"MM.\" et \"M.\" qui ne sont pas contenus dans la liste des stop-words\n",
    "    string_list = re.sub(r'M\\.','', string_list)\n",
    "    string_list = re.sub(r'MM\\.','', string_list)\n",
    "    remove2 = '|'.join(final_stopwords_list)\n",
    "    #retire les mots qui correspondent à ceux de la liste des stop-words\n",
    "    #quelle que soit la taille du caractère\n",
    "    regex = re.compile(r'\\b('+remove2+r')\\b', flags=re.IGNORECASE)\n",
    "    string_list = regex.sub(\" \", string_list)\n",
    "    #suppression de la ponctuation\n",
    "    string_list = re.sub(pattern,'',string_list)\n",
    "    #suppression de la ponctuation non prise en compte\n",
    "    string_list = re.sub(r'[»«·°• ̃ ^]',' ', string_list)\n",
    "    #retire les chiffres\n",
    "    string_list = re.sub(r'[0-9]+', '', string_list)\n",
    "    #suppression des backslash\n",
    "    string_list = re.sub(r\"\\\\\",'', string_list)\n",
    "    string_list = re.sub(r\"['\\n]\",' ', string_list)\n",
    "    string_list = re.sub(\" +\",' ', string_list)\n",
    "    my_file.write(string_list)\n",
    "    my_file.close()\n",
    "#problème avec les tirets : ils servent à la fois à raccorder un même mot sur deux lignes (ex : sou-\\nvenir) OU\n",
    "#à séparer deux tokens (ex : peut-être): comme j'ai beaucoup plus de cas où cela raccorde un même mot, j'ai fait le choix de \n",
    "#les supprimer sans rajouter d'espace, même si cela fait tâche dans certains cas"
   ]
  }
 ],
 "metadata": {
  "kernelspec": {
   "display_name": "Python 3",
   "language": "python",
   "name": "python3"
  },
  "language_info": {
   "codemirror_mode": {
    "name": "ipython",
    "version": 3
   },
   "file_extension": ".py",
   "mimetype": "text/x-python",
   "name": "python",
   "nbconvert_exporter": "python",
   "pygments_lexer": "ipython3",
   "version": "3.6.13"
  }
 },
 "nbformat": 4,
 "nbformat_minor": 5
}

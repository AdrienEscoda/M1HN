{
 "cells": [
  {
   "cell_type": "code",
   "execution_count": 1,
   "id": "f1eb7050",
   "metadata": {},
   "outputs": [],
   "source": [
    "from CER import *"
   ]
  },
  {
   "cell_type": "code",
   "execution_count": 2,
   "id": "73663e2a",
   "metadata": {},
   "outputs": [
    {
     "data": {
      "text/html": [
       "<div>\n",
       "<style scoped>\n",
       "    .dataframe tbody tr th:only-of-type {\n",
       "        vertical-align: middle;\n",
       "    }\n",
       "\n",
       "    .dataframe tbody tr th {\n",
       "        vertical-align: top;\n",
       "    }\n",
       "\n",
       "    .dataframe thead th {\n",
       "        text-align: right;\n",
       "    }\n",
       "</style>\n",
       "<table border=\"1\" class=\"dataframe\">\n",
       "  <thead>\n",
       "    <tr style=\"text-align: right;\">\n",
       "      <th></th>\n",
       "      <th>date_extraits</th>\n",
       "      <th>ocr_output</th>\n",
       "      <th>ref_text</th>\n",
       "      <th>cer</th>\n",
       "    </tr>\n",
       "  </thead>\n",
       "  <tbody>\n",
       "    <tr>\n",
       "      <th>0</th>\n",
       "      <td>07-08</td>\n",
       "      <td>NE CONVERSATION POINT D'HISTOIRE ÉCLAIRCI PA) ...</td>\n",
       "      <td>UNE CONVERSATION POINT D'HISTOIRE ÉCLAIRCI PAR...</td>\n",
       "      <td>3.58</td>\n",
       "    </tr>\n",
       "    <tr>\n",
       "      <th>1</th>\n",
       "      <td>07-09</td>\n",
       "      <td>LE GÉNÉRAL QUITTE SA BONNE VILLE DE PARIS A l'...</td>\n",
       "      <td>VIVE BOULANGER ! LE GÉNÉRAL QUITTE SA BONNE  V...</td>\n",
       "      <td>10.27</td>\n",
       "    </tr>\n",
       "    <tr>\n",
       "      <th>2</th>\n",
       "      <td>07-10</td>\n",
       "      <td>LE GENERAL BOULANGER La manifestation de vendr...</td>\n",
       "      <td>LE GENERAL BOULANGER La manifestation de vendr...</td>\n",
       "      <td>3.46</td>\n",
       "    </tr>\n",
       "    <tr>\n",
       "      <th>3</th>\n",
       "      <td>07-11</td>\n",
       "      <td>Boulanger le vendredi, Pranzini\" te samedi. Si...</td>\n",
       "      <td>BON VOYAGE Boulanger le vendredi, Pranzini le ...</td>\n",
       "      <td>5.44</td>\n",
       "    </tr>\n",
       "    <tr>\n",
       "      <th>4</th>\n",
       "      <td>07-12</td>\n",
       "      <td>Eh bien c'était bien la peine comme dit là cha...</td>\n",
       "      <td>L'INTERPELLATION  Eh bien ! c'était bien la pe...</td>\n",
       "      <td>4.33</td>\n",
       "    </tr>\n",
       "    <tr>\n",
       "      <th>5</th>\n",
       "      <td>07-13</td>\n",
       "      <td>LES EMBLÈMES B.OULANGISTES ET .LA. FÊTE N.ATIO...</td>\n",
       "      <td>LE GENERAL MIRLITON LES EMBLÈMES BOULANGISTES ...</td>\n",
       "      <td>4</td>\n",
       "    </tr>\n",
       "    <tr>\n",
       "      <th>6</th>\n",
       "      <td>07-14</td>\n",
       "      <td>L'AGITATION BOULANGISTE Le 14 juillet Les mani...</td>\n",
       "      <td>L'AGITATION BOULANGISTE  Le 14 juillet -Les ma...</td>\n",
       "      <td>5.06</td>\n",
       "    </tr>\n",
       "    <tr>\n",
       "      <th>7</th>\n",
       "      <td>07-15</td>\n",
       "      <td>COMMENT S'EST PASSÉE LA. FÊTE NATIONALE LA REV...</td>\n",
       "      <td>HIER COMMENT S'EST PASSÉE LA FÊTE  NATIONALE  ...</td>\n",
       "      <td>5.22</td>\n",
       "    </tr>\n",
       "    <tr>\n",
       "      <th>8</th>\n",
       "      <td>07-17</td>\n",
       "      <td>EN REVENANT. Jeudi soir, au moment où les lamp...</td>\n",
       "      <td>EN REVENANT... Jeudi soir, au moment où les la...</td>\n",
       "      <td>4.95</td>\n",
       "    </tr>\n",
       "  </tbody>\n",
       "</table>\n",
       "</div>"
      ],
      "text/plain": [
       "  date_extraits                                         ocr_output  \\\n",
       "0         07-08  NE CONVERSATION POINT D'HISTOIRE ÉCLAIRCI PA) ...   \n",
       "1         07-09  LE GÉNÉRAL QUITTE SA BONNE VILLE DE PARIS A l'...   \n",
       "2         07-10  LE GENERAL BOULANGER La manifestation de vendr...   \n",
       "3         07-11  Boulanger le vendredi, Pranzini\" te samedi. Si...   \n",
       "4         07-12  Eh bien c'était bien la peine comme dit là cha...   \n",
       "5         07-13  LES EMBLÈMES B.OULANGISTES ET .LA. FÊTE N.ATIO...   \n",
       "6         07-14  L'AGITATION BOULANGISTE Le 14 juillet Les mani...   \n",
       "7         07-15  COMMENT S'EST PASSÉE LA. FÊTE NATIONALE LA REV...   \n",
       "8         07-17  EN REVENANT. Jeudi soir, au moment où les lamp...   \n",
       "\n",
       "                                            ref_text    cer  \n",
       "0  UNE CONVERSATION POINT D'HISTOIRE ÉCLAIRCI PAR...   3.58  \n",
       "1  VIVE BOULANGER ! LE GÉNÉRAL QUITTE SA BONNE  V...  10.27  \n",
       "2  LE GENERAL BOULANGER La manifestation de vendr...   3.46  \n",
       "3  BON VOYAGE Boulanger le vendredi, Pranzini le ...   5.44  \n",
       "4  L'INTERPELLATION  Eh bien ! c'était bien la pe...   4.33  \n",
       "5  LE GENERAL MIRLITON LES EMBLÈMES BOULANGISTES ...      4  \n",
       "6  L'AGITATION BOULANGISTE  Le 14 juillet -Les ma...   5.06  \n",
       "7  HIER COMMENT S'EST PASSÉE LA FÊTE  NATIONALE  ...   5.22  \n",
       "8  EN REVENANT... Jeudi soir, au moment où les la...   4.95  "
      ]
     },
     "execution_count": 2,
     "metadata": {},
     "output_type": "execute_result"
    }
   ],
   "source": [
    "df_cer = cer('/home/adrien/Documents/Mémoire/CER_v2/CER.csv')\n",
    "df_cer"
   ]
  },
  {
   "cell_type": "code",
   "execution_count": 4,
   "id": "fc29acf8",
   "metadata": {},
   "outputs": [
    {
     "name": "stdout",
     "output_type": "stream",
     "text": [
      "Le taux d'erreur de caractères moyen est :  5.145555555555556\n"
     ]
    }
   ],
   "source": [
    "#calcul du taux moyen d'erreur de caractères\n",
    "mean_cer = df_cer['cer'].mean()\n",
    "print(\"Le taux d'erreur de caractères moyen est : \", mean_cer)"
   ]
  },
  {
   "cell_type": "code",
   "execution_count": 5,
   "id": "388b1aa3",
   "metadata": {},
   "outputs": [
    {
     "data": {
      "text/html": [
       "<div>\n",
       "<style scoped>\n",
       "    .dataframe tbody tr th:only-of-type {\n",
       "        vertical-align: middle;\n",
       "    }\n",
       "\n",
       "    .dataframe tbody tr th {\n",
       "        vertical-align: top;\n",
       "    }\n",
       "\n",
       "    .dataframe thead th {\n",
       "        text-align: right;\n",
       "    }\n",
       "</style>\n",
       "<table border=\"1\" class=\"dataframe\">\n",
       "  <thead>\n",
       "    <tr style=\"text-align: right;\">\n",
       "      <th></th>\n",
       "      <th>date_extraits</th>\n",
       "      <th>ocr_output</th>\n",
       "      <th>ref_text</th>\n",
       "      <th>cer</th>\n",
       "      <th>nb_char_reftext</th>\n",
       "      <th>nb_mots_reftext</th>\n",
       "    </tr>\n",
       "  </thead>\n",
       "  <tbody>\n",
       "    <tr>\n",
       "      <th>0</th>\n",
       "      <td>07-08</td>\n",
       "      <td>NE CONVERSATION POINT D'HISTOIRE ÉCLAIRCI PA) ...</td>\n",
       "      <td>UNE CONVERSATION POINT D HISTOIRE ÉCLAIRCI PAR...</td>\n",
       "      <td>3.58</td>\n",
       "      <td>3889</td>\n",
       "      <td>696</td>\n",
       "    </tr>\n",
       "    <tr>\n",
       "      <th>1</th>\n",
       "      <td>07-09</td>\n",
       "      <td>LE GÉNÉRAL QUITTE SA BONNE VILLE DE PARIS A l'...</td>\n",
       "      <td>VIVE BOULANGER ! LE GÉNÉRAL QUITTE SA BONNE  V...</td>\n",
       "      <td>10.27</td>\n",
       "      <td>19145</td>\n",
       "      <td>3330</td>\n",
       "    </tr>\n",
       "    <tr>\n",
       "      <th>2</th>\n",
       "      <td>07-10</td>\n",
       "      <td>LE GENERAL BOULANGER La manifestation de vendr...</td>\n",
       "      <td>LE GENERAL BOULANGER La manifestation de vendr...</td>\n",
       "      <td>3.46</td>\n",
       "      <td>4148</td>\n",
       "      <td>650</td>\n",
       "    </tr>\n",
       "    <tr>\n",
       "      <th>3</th>\n",
       "      <td>07-11</td>\n",
       "      <td>Boulanger le vendredi, Pranzini\" te samedi. Si...</td>\n",
       "      <td>BON VOYAGE Boulanger le vendredi, Pranzini le ...</td>\n",
       "      <td>5.44</td>\n",
       "      <td>24090</td>\n",
       "      <td>4244</td>\n",
       "    </tr>\n",
       "    <tr>\n",
       "      <th>4</th>\n",
       "      <td>07-12</td>\n",
       "      <td>Eh bien c'était bien la peine comme dit là cha...</td>\n",
       "      <td>L INTERPELLATION  Eh bien ! c était bien la pe...</td>\n",
       "      <td>4.33</td>\n",
       "      <td>11120</td>\n",
       "      <td>1980</td>\n",
       "    </tr>\n",
       "    <tr>\n",
       "      <th>5</th>\n",
       "      <td>07-13</td>\n",
       "      <td>LES EMBLÈMES B.OULANGISTES ET .LA. FÊTE N.ATIO...</td>\n",
       "      <td>LE GENERAL MIRLITON LES EMBLÈMES BOULANGISTES ...</td>\n",
       "      <td>4</td>\n",
       "      <td>10615</td>\n",
       "      <td>1821</td>\n",
       "    </tr>\n",
       "    <tr>\n",
       "      <th>6</th>\n",
       "      <td>07-14</td>\n",
       "      <td>L'AGITATION BOULANGISTE Le 14 juillet Les mani...</td>\n",
       "      <td>L AGITATION BOULANGISTE  Le 14 juillet -Les ma...</td>\n",
       "      <td>5.06</td>\n",
       "      <td>1736</td>\n",
       "      <td>302</td>\n",
       "    </tr>\n",
       "    <tr>\n",
       "      <th>7</th>\n",
       "      <td>07-15</td>\n",
       "      <td>COMMENT S'EST PASSÉE LA. FÊTE NATIONALE LA REV...</td>\n",
       "      <td>HIER COMMENT S EST PASSÉE LA FÊTE  NATIONALE  ...</td>\n",
       "      <td>5.22</td>\n",
       "      <td>28407</td>\n",
       "      <td>4777</td>\n",
       "    </tr>\n",
       "    <tr>\n",
       "      <th>8</th>\n",
       "      <td>07-17</td>\n",
       "      <td>EN REVENANT. Jeudi soir, au moment où les lamp...</td>\n",
       "      <td>EN REVENANT... Jeudi soir, au moment où les la...</td>\n",
       "      <td>4.95</td>\n",
       "      <td>25610</td>\n",
       "      <td>4606</td>\n",
       "    </tr>\n",
       "  </tbody>\n",
       "</table>\n",
       "</div>"
      ],
      "text/plain": [
       "  date_extraits                                         ocr_output  \\\n",
       "0         07-08  NE CONVERSATION POINT D'HISTOIRE ÉCLAIRCI PA) ...   \n",
       "1         07-09  LE GÉNÉRAL QUITTE SA BONNE VILLE DE PARIS A l'...   \n",
       "2         07-10  LE GENERAL BOULANGER La manifestation de vendr...   \n",
       "3         07-11  Boulanger le vendredi, Pranzini\" te samedi. Si...   \n",
       "4         07-12  Eh bien c'était bien la peine comme dit là cha...   \n",
       "5         07-13  LES EMBLÈMES B.OULANGISTES ET .LA. FÊTE N.ATIO...   \n",
       "6         07-14  L'AGITATION BOULANGISTE Le 14 juillet Les mani...   \n",
       "7         07-15  COMMENT S'EST PASSÉE LA. FÊTE NATIONALE LA REV...   \n",
       "8         07-17  EN REVENANT. Jeudi soir, au moment où les lamp...   \n",
       "\n",
       "                                            ref_text    cer  nb_char_reftext  \\\n",
       "0  UNE CONVERSATION POINT D HISTOIRE ÉCLAIRCI PAR...   3.58             3889   \n",
       "1  VIVE BOULANGER ! LE GÉNÉRAL QUITTE SA BONNE  V...  10.27            19145   \n",
       "2  LE GENERAL BOULANGER La manifestation de vendr...   3.46             4148   \n",
       "3  BON VOYAGE Boulanger le vendredi, Pranzini le ...   5.44            24090   \n",
       "4  L INTERPELLATION  Eh bien ! c était bien la pe...   4.33            11120   \n",
       "5  LE GENERAL MIRLITON LES EMBLÈMES BOULANGISTES ...      4            10615   \n",
       "6  L AGITATION BOULANGISTE  Le 14 juillet -Les ma...   5.06             1736   \n",
       "7  HIER COMMENT S EST PASSÉE LA FÊTE  NATIONALE  ...   5.22            28407   \n",
       "8  EN REVENANT... Jeudi soir, au moment où les la...   4.95            25610   \n",
       "\n",
       "   nb_mots_reftext  \n",
       "0              696  \n",
       "1             3330  \n",
       "2              650  \n",
       "3             4244  \n",
       "4             1980  \n",
       "5             1821  \n",
       "6              302  \n",
       "7             4777  \n",
       "8             4606  "
      ]
     },
     "execution_count": 5,
     "metadata": {},
     "output_type": "execute_result"
    }
   ],
   "source": [
    "df_cer_ext = tot_char_word(df_cer)\n",
    "df_cer_ext"
   ]
  },
  {
   "cell_type": "code",
   "execution_count": 6,
   "id": "38ac266d",
   "metadata": {},
   "outputs": [
    {
     "data": {
      "text/plain": [
       "128760"
      ]
     },
     "execution_count": 6,
     "metadata": {},
     "output_type": "execute_result"
    }
   ],
   "source": [
    "total = df_cer_ext['nb_char_reftext'].sum()\n",
    "total"
   ]
  },
  {
   "cell_type": "code",
   "execution_count": 7,
   "id": "c08eb861",
   "metadata": {},
   "outputs": [
    {
     "data": {
      "text/plain": [
       "14306.666666666666"
      ]
     },
     "execution_count": 7,
     "metadata": {},
     "output_type": "execute_result"
    }
   ],
   "source": [
    "mean_char = df_cer_ext['nb_char_reftext'].mean()\n",
    "mean_char"
   ]
  },
  {
   "cell_type": "code",
   "execution_count": 8,
   "id": "18ce36a0",
   "metadata": {},
   "outputs": [
    {
     "data": {
      "text/plain": [
       "22406"
      ]
     },
     "execution_count": 8,
     "metadata": {},
     "output_type": "execute_result"
    }
   ],
   "source": [
    "total_mots = df_cer_ext['nb_mots_reftext'].sum()\n",
    "total_mots"
   ]
  },
  {
   "cell_type": "code",
   "execution_count": 9,
   "id": "1bbb0779",
   "metadata": {},
   "outputs": [
    {
     "data": {
      "text/plain": [
       "2489.5555555555557"
      ]
     },
     "execution_count": 9,
     "metadata": {},
     "output_type": "execute_result"
    }
   ],
   "source": [
    "mean_mots = df_cer_ext['nb_mots_reftext'].mean()\n",
    "mean_mots"
   ]
  },
  {
   "cell_type": "code",
   "execution_count": 11,
   "id": "687707b1",
   "metadata": {},
   "outputs": [],
   "source": [
    "df_cer_ext.to_csv('CER_data.csv', index = True)"
   ]
  }
 ],
 "metadata": {
  "kernelspec": {
   "display_name": "Python 3",
   "language": "python",
   "name": "python3"
  },
  "language_info": {
   "codemirror_mode": {
    "name": "ipython",
    "version": 3
   },
   "file_extension": ".py",
   "mimetype": "text/x-python",
   "name": "python",
   "nbconvert_exporter": "python",
   "pygments_lexer": "ipython3",
   "version": "3.6.13"
  }
 },
 "nbformat": 4,
 "nbformat_minor": 5
}

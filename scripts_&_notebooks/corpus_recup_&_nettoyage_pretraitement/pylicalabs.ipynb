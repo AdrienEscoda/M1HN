{
 "cells": [
  {
   "cell_type": "code",
   "execution_count": 1,
   "id": "d904d89f",
   "metadata": {},
   "outputs": [],
   "source": [
    "from pyllicalabs import *"
   ]
  },
  {
   "cell_type": "code",
   "execution_count": 2,
   "id": "9bcb7ac2",
   "metadata": {},
   "outputs": [],
   "source": [
    "textpress(url=\"https://gallica.bnf.fr/ark:/12148/cb328123058/date\", title=\"lematin\", year=1887, month=1, day=1, item=365, rate=1, lastpage=2)\n"
   ]
  }
 ],
 "metadata": {
  "kernelspec": {
   "display_name": "Python 3 (ipykernel)",
   "language": "python",
   "name": "python3"
  },
  "language_info": {
   "codemirror_mode": {
    "name": "ipython",
    "version": 3
   },
   "file_extension": ".py",
   "mimetype": "text/x-python",
   "name": "python",
   "nbconvert_exporter": "python",
   "pygments_lexer": "ipython3",
   "version": "3.6.13"
  }
 },
 "nbformat": 4,
 "nbformat_minor": 5
}
